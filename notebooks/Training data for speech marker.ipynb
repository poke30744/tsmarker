{
 "cells": [
  {
   "cell_type": "code",
   "execution_count": 1,
   "id": "217b0c9f",
   "metadata": {},
   "outputs": [],
   "source": [
    "from pathlib import Path\n",
    "from tqdm import tqdm\n",
    "import json\n",
    "import pysubs2\n",
    "\n",
    "videoRoot = Path(r'\\\\acepc-gk3\\Seagate 8T\\categorized_mp4')"
   ]
  },
  {
   "cell_type": "code",
   "execution_count": 2,
   "id": "ed46bd2a",
   "metadata": {},
   "outputs": [
    {
     "name": "stderr",
     "output_type": "stream",
     "text": [
      "4085it [00:31, 131.07it/s]\n"
     ]
    }
   ],
   "source": [
    "allMrkermapFiles = [p for p in tqdm(videoRoot.glob('**/*.markermap')) if p.with_suffix('.ass.original').is_file()]"
   ]
  },
  {
   "cell_type": "code",
   "execution_count": 3,
   "id": "986f394e",
   "metadata": {},
   "outputs": [
    {
     "name": "stderr",
     "output_type": "stream",
     "text": [
      "100%|██████████████████████████████████████████████████████████████████████| 1675/1675 [00:26<00:00, 62.46it/s]\n"
     ]
    }
   ],
   "source": [
    "fileList = []\n",
    "for markermapPath in tqdm(allMrkermapFiles):\n",
    "    with markermapPath.open() as f:\n",
    "        markermap = json.load(f)\n",
    "        for k,v in markermap.items():\n",
    "            if '_groundtruth' in v and 'subtitles' in v and  v['_groundtruth'] == 0.0 and v['subtitles'] == 1.0:\n",
    "                fileList.append(markermapPath)\n",
    "                break        "
   ]
  },
  {
   "cell_type": "code",
   "execution_count": 5,
   "id": "d0ade45c",
   "metadata": {},
   "outputs": [
    {
     "data": {
      "text/plain": [
       "'とどろき はねと (轟木羽人)街も眠っております｡ どうも ハットくんです｡ ピッピピー！ (轟木)という事で 今日のハットの びっくりッピーはですね→ 前回の動画 見た？ 相方のブケショがさ…｡ ふみつぐ (山田史嗣)すいません｡ 僕 もう 動画やめます｡ おい ブケショ…｡ おい ブケショ！ で もう 腹立ったんで 今から押しかけて→ やつ 奴を 丸ごと 僕のテーマカラー ピンクに塗りたくってしまう→ そういう びっくりッピーです｡ ここが ブケショが住んでる マンションです｡'"
      ]
     },
     "execution_count": 5,
     "metadata": {},
     "output_type": "execute_result"
    }
   ],
   "source": [
    "import re\n",
    "def ExtractSubtitlesText(assPath: Path, clip: tuple[float, float]) -> str:\n",
    "    subs = pysubs2.load(assPath)\n",
    "    result = []\n",
    "    for event in subs:\n",
    "        start, end = clip[0] * 1000, clip[1] * 1000\n",
    "        # if overlap\n",
    "        if event.start < end and start < event.end:\n",
    "            text = event.text\n",
    "            text = re.sub(r'\\{.*?\\}', '', text)\n",
    "            text = text.replace(r'\\N', '')\n",
    "            result.append(text)\n",
    "    return ' '.join(result)\n",
    "\n",
    "ExtractSubtitlesText(\n",
    "    r\"\\\\acepc-gk3\\Seagate 8T\\categorized_mp4\\ドラマ\\シッコウ!!~犬と私と執行官~\\_metadata\\2023年07月11日21時00分00秒-シッコウ！！～犬と私と執行官～　＃２[解][字].ass.original\",\n",
    "    (5, 40))\n"
   ]
  },
  {
   "cell_type": "code",
   "execution_count": 7,
   "id": "56cd075f",
   "metadata": {},
   "outputs": [
    {
     "name": "stderr",
     "output_type": "stream",
     "text": [
      "100%|████████████████████████████████████████████████████████████████████████| 755/755 [16:15<00:00,  1.29s/it]\n"
     ]
    },
    {
     "data": {
      "text/plain": [
       "(4131, 5556)"
      ]
     },
     "execution_count": 7,
     "metadata": {},
     "output_type": "execute_result"
    }
   ],
   "source": [
    "cmTextList = []\n",
    "nonCmTextList = []\n",
    "\n",
    "for markermapPath in tqdm(fileList):\n",
    "    with markermapPath.open() as f:\n",
    "        markermap = json.load(f)\n",
    "        assPath = markermapPath.with_suffix('.ass.original')\n",
    "        for k,v in markermap.items():\n",
    "            clip = eval(k)\n",
    "            # skip very short clips\n",
    "            if clip[1] - clip[0] < 5:\n",
    "                continue\n",
    "            # only take first 15 seconds\n",
    "            if clip[1] - clip[0] > 15:\n",
    "                clip = (clip[0], clip[0] + 15)\n",
    "            text = ExtractSubtitlesText(assPath, clip)\n",
    "            if v['_groundtruth'] == 0.0 and v['subtitles'] == 1.0:\n",
    "                cmTextList.append(text)\n",
    "            elif v['_groundtruth'] == 1.0 and v['subtitles'] == 1.0:\n",
    "                nonCmTextList.append(text)\n",
    "len(cmTextList), len(nonCmTextList)"
   ]
  },
  {
   "cell_type": "code",
   "execution_count": 8,
   "id": "d6c82ee2",
   "metadata": {},
   "outputs": [],
   "source": [
    "from statistics import stdev\n",
    "\n",
    "#stdev(cmLen), stdev(nonCmLen)"
   ]
  },
  {
   "cell_type": "code",
   "execution_count": 9,
   "id": "b752716b",
   "metadata": {},
   "outputs": [
    {
     "data": {
      "text/plain": [
       "['＜日やけによるシミ予防＞ 始めよ？ ＜トーンアップ 出た＞',\n",
       " 'たなか (田中)まだ始めてないの？ (友人)えっ？ 日やけによる シミを➡ 防ぐ！ ｢ニベア｣のＵＶでね｡ ＜｢ニベア｣最強 予防美容処方＞ ＜日やけによるシミ予防＞ 始めよ？ ＜トーンアップ 出た＞',\n",
       " 'たけうちりょうま いがい (竹内涼真)ﾎﾞｸは どこでもﾄﾞｱ以外に ないでしょ｡ あらき ゆうこ てっぱん (新木優子)鉄板の｡ すぐ… い じかん はい 入り時間 すぐ入れちゃうから｡ しごと つか 仕事で使うんだ？ うん｡ せーの…｡',\n",
       " 'なかむら (中村アン)ドラえもん や た どら焼きを いっぱい食べて→ けんこう 健康でいてください｡ たまもりゆうた (玉森裕太) ドラえもん！ これからも→ た なかよ のび太くんと仲良くしてください｡ ふたり (２人)せーの…｡',\n",
       " 'えいじ (ウエンツ瑛士)ボクは の タイムマシンに乗りたいですね｡ おおた ひかり (太田 光)ﾀｲﾑﾏｼﾝはね そりゃあ…｡ (ｳｴﾝﾂ)乗りたいです｡ たなか ゆうじ (田中裕二)行きたいとこあんの？ みらい かこ 未来とか過去とか｡ ボクは未来ですね｡ ねん 20年ぐらいがいいですね｡ てまえ 60手前ぐらいです ボクでいうと｡',\n",
       " 'すだ かおう (菅田)花王が ついに突き止めた…｡ かく (賀来)｢菌の隠れ家｣ まみや (間宮)除菌洗剤も漂白剤も ダメだった｡ すぎの ゼロ (杉野)新｢アタックＺＥＲＯ｣なら…｡ (一同)いざ！ まつざか (松坂)バイオクラッシュ洗浄！',\n",
       " '≪ルンゴー！ ≪ルンゴー！ ≪ルンゴー！ ≪ワッハッハッハッハー！',\n",
       " '(３人)はじめよう ｢ニベアメン｣ さかもと (坂本)なんか 最近 調子いいよね？ ながの (長野)やっぱり？ 肌のハリ？ (２人)おー！ いのはら (井ノ原)続けるって大事！ ＜いい肌と､進み続けろ｡＞ ＜40歳からのスキンケア＞',\n",
       " 'ツバキ ＜あの ｢TSUBAKI｣から➡ ダメージケアの黒 誕生＞ ＜イオンの力が 髪を根本から補修＞ ＜艶あふれるオーラ髪へ ｢黒TSUBAKI｣＞',\n",
       " 'にかいどう (二階堂)生理だからこそ できるだけ 気持ちいいものを➡ 身につけたい｡ うん｡ ＜コットン 100％＞ すはだ ♬｢しあわせ素肌｣ ＜ボタニカルコットン 誕生＞ うん｡ ♬｢ロリエ｣',\n",
       " '♬～おわんわーん おわんわーん さいとう (斉藤)みんな大好き あの味が',\n",
       " '（ｷｯｺさん）生しょうゆを料理に使うの もったいないって思ってる人多いみたい （ｷｯｺｺちゃん）その考えが （二人）もったいない （焼ける音）ジュー ジュワー いただきます ＜生しょうゆは＞ キッコーマン',\n",
       " 'たけのうち (竹野内)よしっ!いいアイデアが降りてきたぞ! くぼた (窪田)≪この人はいつも若々しい｡なぜだ？≫ いただきます。 ≪食べ物か？ネクタイの色か？≫',\n",
       " 'すだ かおう (菅田)花王が ついに突き止めた…｡ かく (賀来)｢菌の隠れ家｣ まみや (間宮)除菌洗剤も漂白剤も ダメだった｡',\n",
       " 'すだ かおう (菅田)花王が ついに突き止めた…｡ かく (賀来)｢菌の隠れ家｣ まみや (間宮)除菌洗剤も漂白剤も ダメだった｡ すぎの ゼロ (杉野)新｢アタックＺＥＲＯ｣なら…｡',\n",
       " '(ｼﾞｬﾝｸﾞﾙﾎﾟｹｯﾄ) <このｻｲｽﾞがちょうどいい!｢お椀で食べるｼﾘｰｽﾞ｣>',\n",
       " 'すだ (菅田)洗濯槽にも潜んでいた…｡ かく (賀来)ニオイ カビをかくまう ｢菌の隠れ家｣ まみや (間宮)これじゃ 洗っても洗っても…｡ すぎの (杉野)臭くなるだけ｡',\n",
       " 'やぎ (八木)ファミチキが!? ＜サワークリーム＆オニオン味に＞ ん～うまっ! ＜プリングルズコラボ＞ これ!あの味じゃん! ＜ﾌｧﾐﾁｷ ｻﾜｰｸﾘｰﾑ&ｵﾆｵﾝ味 ｸﾘｽﾋﾟｰﾁｷﾝも＞ 近くのファミマで確かめて!',\n",
       " '《正直過ぎる自分の 尻尾がきらいだ…》',\n",
       " '＜透明感のカギ 光の量に着目＞ ＜…はじまる＞ いしだ (石田)《大人の透明感と➡ ハリに満ちた肌へ》 エリクシール ＜新｢ELIXIR｣＞']"
      ]
     },
     "execution_count": 9,
     "metadata": {},
     "output_type": "execute_result"
    }
   ],
   "source": [
    "cmTextList[:20]"
   ]
  },
  {
   "cell_type": "code",
   "execution_count": 10,
   "id": "0e88ab40",
   "metadata": {},
   "outputs": [
    {
     "data": {
      "text/plain": [
       "['べにこ ぜにてんどう (紅子)銭天堂｡ ここは 幸運のお客様だけが たどりつける➡ だがしや 駄菓子屋でござんす｡ かみひとえ 運も不運も 紙一重｡',\n",
       " '(こはく) うわ～い！ サンマだにゃ～！ うにゃうにゃ うにゃうにゃ…｡ まだまだ いくらでも食べられるにゃ～｡ (こがね)こはく君… うるさくて ねむれませんにゃ…｡ そんな うまいの？',\n",
       " 'べにこ (紅子)旅行中に出会った わがしや 和菓子屋のはるかさん｡ お兄さんが コンテスト用の 和菓子のアイデアを➡ ライバルに ぬすまれてしまい➡ 優勝を のがしてしまったのでござんす｡',\n",
       " '(大室)そんな古くさい菓子 後回しでいい！ おれが考えた 新作の菓子に取りかかってくれ！ つきよねこ でも それでは うちの名物｢月夜猫｣の 材料が足りなくなります｡ そっちは ほかの安い材料で ちゃっちゃと作れ！',\n",
       " '♬～ べにこ ぜにてんどう (紅子)銭天堂｡ ここは 幸運のお客様だけが たどりつける➡ だがしや 駄菓子屋でござんす｡ かみひとえ 運も不運も 紙一重｡',\n",
       " '♬～ べにこ ぜにてんどう (紅子)銭天堂｡ ここは 幸運のお客様だけが たどりつける➡ だがしや 駄菓子屋でござんす｡ かみひとえ 運も不運も 紙一重｡ ころりと転じる運だめし｡',\n",
       " 'すっげえ！ リアルなトラ！ こいつは コブラか｡ サイに ライオン➡ ゴリラに オオカミもある｡ 食べるのが もったいないな｡ あっ サイは そんなに好きじゃないから 食べちゃおう｡',\n",
       " '♬～ べにこ ぜにてんどう (紅子)銭天堂｡ ここは 幸運のお客様だけが たどりつける➡ だがしや 駄菓子屋でござんす｡ かみひとえ 運も不運も 紙一重｡ ころりと転じる運だめし｡',\n",
       " 'お客様 心残りが おありでござんすか？ えっ？ ｢逆襲ジンジャーエール｣を 選べばよかったと➡ 少し後かいしてるんじゃござんせんか？ ええ…｡',\n",
       " '(ドラえもん) じかん 『ドラえもん』の時間だよ｡ (ドラえもんのいびき) ものおと ≪(物音) …ん？',\n",
       " 'ディー お ｄボタンを押して→ かお えら しょうぶ ｸﾞｰ ﾁｮｷ ﾊﾟｰの顔を選んで勝負！ あ ﾎﾟｲﾝﾄをためてﾌﾟﾚｾﾞﾝﾄを当てよう！',\n",
       " 'みんなの｢できたらいいな｣を だいぼしゅう 大募集！ たんじょうび 『ドラえもん誕生日スペシャル』で しょうかい 紹介するよ！ くわ 詳しくは ホームページまで！',\n",
       " 'お べっそう うら (スネ夫)おじさんの別荘の裏が たにがわ 谷川でね→ つ そんなのがドサドサ釣れるんだ｡ あした にちようび (スネ夫)よかったら 明日の日曜日 い みんなで行かない？',\n",
       " 'タラコ… 好きなのに…｡ (しずか)ごちそうさまでした｡ さんぽ ねえ 散歩してきましょうよ｡ あ… あとで…｡ そう…｡ じゃあ 行ってくるわね｡',\n",
       " 'えいが 『映画ドラえもん ちきゅうシンフォニー のび太の地球交響楽』｡ いっしょ のび太くんたちと一緒に おんがく せかい だいぼうけん 音楽の世界を大冒険するよ！ がっきたい そこで ドラえもんの楽器隊 さんか だいぼしゅう 参加チームを大募集！ とくい 楽器が得意な人も→ ひ まだ弾いたことがない人も→',\n",
       " '(しずか)ウソ！ ホントさ！ やま 山のように釣れたんだ｡ あれっ？ タラが… タラの山が…｡ あれ？ あれれ？ ウソじゃないんだよ！ なんじゅっぴき 大きなタラが何十匹も…｡',\n",
       " 'ああ…！ ドラえも～ん！ な (泣き声) くろう そうか そうか 苦労したんだね｡ しずかちゃんに 大物を釣らせてあげたいんだ｡ 大物かあ｡ よしきた！',\n",
       " 'こんど はなし 〈『ドラえもん』 今度のお話は？〉 しん 〈新ビジネスで や どら焼きゲット!?〉 うんそう 〈のび太運送は いかが？ りようりょう えん 利用料は たったの10円！〉 (ｼﾞｬｲｱﾝ) たか 〈それは高い！ 高すぎる！〉 (スネ夫)〈すごいクレーマー〉 どよう ごご じ 〈土曜 午後５時〉',\n",
       " 'スタート！',\n",
       " 'むりょうみのが はいしん 無料見逃し配信は アベマ ティーバー ＡＢＥＭＡ ＴＶｅｒで！']"
      ]
     },
     "execution_count": 10,
     "metadata": {},
     "output_type": "execute_result"
    }
   ],
   "source": [
    "nonCmTextList[:20]"
   ]
  },
  {
   "cell_type": "code",
   "execution_count": null,
   "id": "44c1eb11",
   "metadata": {},
   "outputs": [],
   "source": [
    "#!pip install ffmpeg-python\n",
    "#!pip install SpeechRecognition"
   ]
  },
  {
   "cell_type": "code",
   "execution_count": null,
   "id": "f9150bf8",
   "metadata": {},
   "outputs": [],
   "source": []
  },
  {
   "cell_type": "code",
   "execution_count": null,
   "id": "5a870da0",
   "metadata": {},
   "outputs": [],
   "source": []
  },
  {
   "cell_type": "code",
   "execution_count": 11,
   "id": "5acc62e1",
   "metadata": {},
   "outputs": [
    {
     "data": {
      "text/plain": [
       "(None, None)"
      ]
     },
     "execution_count": 11,
     "metadata": {},
     "output_type": "execute_result"
    }
   ],
   "source": [
    "import ffmpeg\n",
    "ffmpegPath = r\"C:\\Software\\ffmpeg\\ffmpeg-5.0.1-essentials_build\\bin\\ffmpeg.exe\"\n",
    "\n",
    "stream = ffmpeg.input(r\"C:\\Samples\\lupin\\CM\\0096.435-0126.432.ts\")\n",
    "stream = ffmpeg.output(stream, r\"C:\\Samples\\lupin\\CM\\0096.435-0126.432.wav\")\n",
    "\n",
    "ffmpeg.run(stream, overwrite_output=True, cmd=ffmpegPath)"
   ]
  },
  {
   "cell_type": "code",
   "execution_count": 12,
   "id": "6bfa223f",
   "metadata": {},
   "outputs": [
    {
     "name": "stdout",
     "output_type": "stream",
     "text": [
      "ファイブイズホーム 現場に立ってお客様の生活をイメージする それがベストなプレーに繋がっていくんで ご希望通りは当たり前 お客様に感動してもらえるところまで持って行こうと 見えない所こそ 徹底的にえ そんなとこまでっていう 細かい 検査ですね 5 ホームには自信があります 確かな品質 安心価格の\n"
     ]
    }
   ],
   "source": [
    "import speech_recognition as sr\n",
    "r = sr.Recognizer()\n",
    "\n",
    "audio_file = r\"C:\\Samples\\lupin\\CM\\0096.435-0126.432.wav\"\n",
    "with sr.AudioFile(audio_file) as source:\n",
    "    audio = r.record(source)\n",
    "\n",
    "text = r.recognize_google(audio, language='ja-JP')\n",
    "\n",
    "print(text)"
   ]
  }
 ],
 "metadata": {
  "kernelspec": {
   "display_name": "Python 3 (ipykernel)",
   "language": "python",
   "name": "python3"
  },
  "language_info": {
   "codemirror_mode": {
    "name": "ipython",
    "version": 3
   },
   "file_extension": ".py",
   "mimetype": "text/x-python",
   "name": "python",
   "nbconvert_exporter": "python",
   "pygments_lexer": "ipython3",
   "version": "3.9.7"
  }
 },
 "nbformat": 4,
 "nbformat_minor": 5
}
