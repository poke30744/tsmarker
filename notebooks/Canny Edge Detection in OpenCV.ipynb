{
 "cells": [
  {
   "cell_type": "code",
   "execution_count": 1,
   "metadata": {},
   "outputs": [],
   "source": [
    "%matplotlib inline\n",
    "from ipywidgets import interact, widgets"
   ]
  },
  {
   "cell_type": "code",
   "execution_count": 2,
   "metadata": {},
   "outputs": [],
   "source": [
    "import numpy as np\n",
    "import cv2 as cv\n",
    "from pathlib import Path\n",
    "from matplotlib import pyplot as plt"
   ]
  },
  {
   "cell_type": "code",
   "execution_count": 3,
   "metadata": {},
   "outputs": [],
   "source": [
    "files = list(Path(r\"C:\\Samples\").glob(\"*_logo.png\"))"
   ]
  },
  {
   "cell_type": "code",
   "execution_count": 4,
   "metadata": {},
   "outputs": [
    {
     "data": {
      "application/vnd.jupyter.widget-view+json": {
       "model_id": "f0627c606cea4e92a41510ab7730af19",
       "version_major": 2,
       "version_minor": 0
      },
      "text/plain": [
       "interactive(children=(Dropdown(description='path', options=(WindowsPath('C:/Samples/1997.820-2386.809_logo.png…"
      ]
     },
     "metadata": {},
     "output_type": "display_data"
    },
    {
     "data": {
      "text/plain": [
       "<function __main__.ShowPic(path)>"
      ]
     },
     "execution_count": 4,
     "metadata": {},
     "output_type": "execute_result"
    }
   ],
   "source": [
    "def ShowPic(path):\n",
    "    img = cv.imread(str(path), 0)\n",
    "    #img = cv.GaussianBlur(img, (17,17), 0)\n",
    "    plt.imshow(img)\n",
    "\n",
    "interact(ShowPic, \n",
    "         path=widgets.Dropdown(options=files, value=files[0]))"
   ]
  },
  {
   "cell_type": "code",
   "execution_count": 5,
   "metadata": {
    "scrolled": true
   },
   "outputs": [
    {
     "data": {
      "application/vnd.jupyter.widget-view+json": {
       "model_id": "af7b99df8ed944e5b6965958dea17ba7",
       "version_major": 2,
       "version_minor": 0
      },
      "text/plain": [
       "interactive(children=(Dropdown(description='path', options=(WindowsPath('C:/Samples/1997.820-2386.809_logo.png…"
      ]
     },
     "metadata": {},
     "output_type": "display_data"
    },
    {
     "data": {
      "text/plain": [
       "<function __main__.drawEdges(path, threshold1, threshold2)>"
      ]
     },
     "execution_count": 5,
     "metadata": {},
     "output_type": "execute_result"
    }
   ],
   "source": [
    "def drawEdges(path, threshold1, threshold2):\n",
    "    img = cv.imread(str(path), 0)\n",
    "    print(f'image mean: {np.mean(img)}, median: {np.median(img)}, std: {np.std(img)}')\n",
    "    #median = np.median(img)\n",
    "    #threshold1, threshold2 = 0.66 * median, 1.33 * median\n",
    "    edges = cv.Canny(img, threshold1, threshold2, apertureSize=3)\n",
    "    plt.imshow(edges)\n",
    "    edgePath = path.with_suffix('.edge.png')\n",
    "    cv.imwrite(str(edgePath), edges)\n",
    "\n",
    "interact(drawEdges,\n",
    "         path=widgets.Dropdown(options=files, value=files[0]),\n",
    "         threshold1=widgets.IntSlider(min=0, max=128, value=32),\n",
    "         threshold2=widgets.IntSlider(min=0, max=128, value=64))"
   ]
  },
  {
   "cell_type": "code",
   "execution_count": 6,
   "metadata": {},
   "outputs": [],
   "source": [
    "from PIL import Image\n",
    "\n",
    "videoEdge = np.array(Image.open(r\"C:\\Samples\\2021年01月05日19時30分00秒-美少女戦士セーラームーンCrystal #2_CS1(330)-1_logo.edge.png\"))\n",
    "clipEdge = np.array(Image.open(r\"C:\\Samples\\2021年01月18日19時30分00秒-美少女戦士セーラームーンCrystal #11_trimmed_logo.edge.png\"))"
   ]
  },
  {
   "cell_type": "code",
   "execution_count": 7,
   "metadata": {},
   "outputs": [
    {
     "name": "stdout",
     "output_type": "stream",
     "text": [
      "0.20301839983460823\n"
     ]
    },
    {
     "data": {
      "image/png": "[encoded data removed]",
      "text/plain": [
       "<Figure size 432x288 with 1 Axes>"
      ]
     },
     "metadata": {
      "needs_background": "light"
     },
     "output_type": "display_data"
    }
   ],
   "source": [
    "andImage = np.bitwise_and(videoEdge, clipEdge)\n",
    "plt.imshow(andImage)\n",
    "logoScore = np.sum(andImage) / np.sum(videoEdge)\n",
    "print(logoScore)"
   ]
  }
 ],
 "metadata": {
  "kernelspec": {
   "display_name": "Python 3",
   "language": "python",
   "name": "python3"
  },
  "language_info": {
   "codemirror_mode": {
    "name": "ipython",
    "version": 3
   },
   "file_extension": ".py",
   "mimetype": "text/x-python",
   "name": "python",
   "nbconvert_exporter": "python",
   "pygments_lexer": "ipython3",
   "version": "3.8.5"
  }
 },
 "nbformat": 4,
 "nbformat_minor": 4
}
